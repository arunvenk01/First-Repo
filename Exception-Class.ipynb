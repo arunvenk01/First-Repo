{
 "cells": [
  {
   "cell_type": "markdown",
   "id": "e8a230bf-7f3d-40b6-b2b7-4023deb10bc9",
   "metadata": {},
   "source": [
    "Code on Class Creation & Exception Handling"
   ]
  },
  {
   "cell_type": "code",
   "execution_count": 30,
   "id": "94839343-5ba7-4ea6-8d09-a9a4af6f949d",
   "metadata": {},
   "outputs": [
    {
     "name": "stdout",
     "output_type": "stream",
     "text": [
      "AA\n",
      "BA\n",
      "CA\n"
     ]
    }
   ],
   "source": [
    "def addition(A):\n",
    " \"Add one to input\"\n",
    " for c in A:\n",
    "    print(c+\"A\")\n",
    "B=[\"A\",\"B\",\"C\"]\n",
    "addition(B)\n"
   ]
  },
  {
   "cell_type": "code",
   "execution_count": 21,
   "id": "9ea27622-92ee-4745-86c9-4291996f365b",
   "metadata": {},
   "outputs": [
    {
     "name": "stdout",
     "output_type": "stream",
     "text": [
      "Python\n"
     ]
    }
   ],
   "source": [
    "addition()"
   ]
  },
  {
   "cell_type": "code",
   "execution_count": 5,
   "id": "256736a5-f015-49fb-aa0f-28bf4748cf95",
   "metadata": {},
   "outputs": [
    {
     "name": "stdout",
     "output_type": "stream",
     "text": [
      "C\n",
      "The number you provided cant divide 1 because it is 0\n",
      "Code executed after excpetion\n"
     ]
    }
   ],
   "source": [
    "\n",
    "try:\n",
    "    print(\"C\")\n",
    "    C=1/0\n",
    "except ZeroDivisionError:\n",
    "    print(\"The number you provided cant divide 1 because it is 0\")\n",
    "print(\"Code executed after excpetion\")"
   ]
  },
  {
   "cell_type": "code",
   "execution_count": 6,
   "id": "20ec84dc-485a-4eb7-be00-34943b0e4b44",
   "metadata": {},
   "outputs": [],
   "source": [
    "# Import the library\n",
    "\n",
    "import matplotlib.pyplot as plt\n",
    "%matplotlib inline"
   ]
  },
  {
   "cell_type": "code",
   "execution_count": 7,
   "id": "261bc26a-3386-4614-9f28-7ee660a5a449",
   "metadata": {},
   "outputs": [],
   "source": [
    "# Create a class Circle\n",
    "\n",
    "class Circle(object):\n",
    "    \n",
    "    # Constructor\n",
    "    def __init__(self, radius=3, color='blue'):\n",
    "        self.radius = radius\n",
    "        self.color = color \n",
    "    \n",
    "    # Method\n",
    "    def add_radius(self, r):\n",
    "        self.radius = self.radius + r\n",
    "        return(self.radius)\n",
    "    \n",
    "    # Method\n",
    "    def drawCircle(self):\n",
    "        plt.gca().add_patch(plt.Circle((0, 0), radius=self.radius, fc=self.color))\n",
    "        plt.axis('scaled')\n",
    "        plt.show()"
   ]
  },
  {
   "cell_type": "code",
   "execution_count": 19,
   "id": "cf0fd437-25f9-46e5-ab4a-8002a4c6253e",
   "metadata": {},
   "outputs": [],
   "source": [
    "rcircle=Circle(5,'yellow')"
   ]
  },
  {
   "cell_type": "code",
   "execution_count": 12,
   "id": "d5fa4d2b-4b1c-46a4-a93b-0898ca498724",
   "metadata": {},
   "outputs": [
    {
     "data": {
      "text/plain": [
       "5"
      ]
     },
     "execution_count": 12,
     "metadata": {},
     "output_type": "execute_result"
    }
   ],
   "source": [
    "rcircle.radius"
   ]
  },
  {
   "cell_type": "code",
   "execution_count": 13,
   "id": "7c48be8e-a9a1-4da4-a9d8-a8ed8e2b77a3",
   "metadata": {},
   "outputs": [
    {
     "data": {
      "text/plain": [
       "10"
      ]
     },
     "execution_count": 13,
     "metadata": {},
     "output_type": "execute_result"
    }
   ],
   "source": [
    "rcircle.add_radius(5)"
   ]
  },
  {
   "cell_type": "code",
   "execution_count": 20,
   "id": "f853202e-1eb5-4b70-acd6-4718365a3204",
   "metadata": {},
   "outputs": [
    {
     "data": {
      "image/png": "[encoded data removed]",
      "text/plain": [
       "<Figure size 432x288 with 1 Axes>"
      ]
     },
     "metadata": {
      "needs_background": "light"
     },
     "output_type": "display_data"
    }
   ],
   "source": [
    "rcircle.drawCircle()"
   ]
  }
 ],
 "metadata": {
  "kernelspec": {
   "display_name": "Python",
   "language": "python",
   "name": "conda-env-python-py"
  },
  "language_info": {
   "codemirror_mode": {
    "name": "ipython",
    "version": 3
   },
   "file_extension": ".py",
   "mimetype": "text/x-python",
   "name": "python",
   "nbconvert_exporter": "python",
   "pygments_lexer": "ipython3",
   "version": "3.6.13"
  }
 },
 "nbformat": 4,
 "nbformat_minor": 5
}
